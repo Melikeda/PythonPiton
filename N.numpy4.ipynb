{
 "cells": [
  {
   "cell_type": "markdown",
   "id": "747f5088-82f2-4fcd-b66e-6a2bcb31de8b",
   "metadata": {},
   "source": [
    "# CONCANTENATİON"
   ]
  },
  {
   "cell_type": "code",
   "execution_count": 40,
   "id": "5fbedd82-2e58-41be-867e-30cd8cc1d6ab",
   "metadata": {},
   "outputs": [],
   "source": [
    "import numpy as np"
   ]
  },
  {
   "cell_type": "code",
   "execution_count": 41,
   "id": "fbd179d8-d940-4891-b1c1-a7b2dd1f7a9d",
   "metadata": {},
   "outputs": [],
   "source": [
    "x = np.array([1,2,3])\n",
    "y = np.array([4,5,6])"
   ]
  },
  {
   "cell_type": "code",
   "execution_count": 42,
   "id": "bbb25a05-6d52-4f85-b9bb-90c9032cdf8e",
   "metadata": {},
   "outputs": [
    {
     "data": {
      "text/plain": [
       "array([1, 2, 3, 4, 5, 6])"
      ]
     },
     "execution_count": 42,
     "metadata": {},
     "output_type": "execute_result"
    }
   ],
   "source": [
    "np.concatenate([x,y])"
   ]
  },
  {
   "cell_type": "code",
   "execution_count": 43,
   "id": "30b3d390-edcb-4f82-8b7d-79fce980833d",
   "metadata": {},
   "outputs": [],
   "source": [
    "z = np.array([1,5,0])"
   ]
  },
  {
   "cell_type": "code",
   "execution_count": 44,
   "id": "1b8ccd08-7d27-48cd-883b-860ce3b9d6d5",
   "metadata": {},
   "outputs": [
    {
     "data": {
      "text/plain": [
       "array([[1, 2, 3],\n",
       "       [4, 5, 6],\n",
       "       [1, 5, 0]])"
      ]
     },
     "execution_count": 44,
     "metadata": {},
     "output_type": "execute_result"
    }
   ],
   "source": [
    "np.array([x,y,z])"
   ]
  },
  {
   "cell_type": "markdown",
   "id": "699993a3-b11d-460d-824f-95e4c789d251",
   "metadata": {},
   "source": [
    "* İki boyutlularda"
   ]
  },
  {
   "cell_type": "code",
   "execution_count": 48,
   "id": "05826197-9a3a-4004-9efb-c2185df62d8e",
   "metadata": {},
   "outputs": [],
   "source": [
    "a = ([[1,2,3],\n",
    "      [5,6,7]])"
   ]
  },
  {
   "cell_type": "code",
   "execution_count": 52,
   "id": "fa15dc08-97c9-4aa5-b0f0-6682ac28b741",
   "metadata": {},
   "outputs": [
    {
     "data": {
      "text/plain": [
       "array([[1, 2, 3, 1, 2, 3],\n",
       "       [5, 6, 7, 5, 6, 7]])"
      ]
     },
     "execution_count": 52,
     "metadata": {},
     "output_type": "execute_result"
    }
   ],
   "source": [
    "np.concatenate([a,a], axis = 1)"
   ]
  }
 ],
 "metadata": {
  "kernelspec": {
   "display_name": "Python 3 (ipykernel)",
   "language": "python",
   "name": "python3"
  },
  "language_info": {
   "codemirror_mode": {
    "name": "ipython",
    "version": 3
   },
   "file_extension": ".py",
   "mimetype": "text/x-python",
   "name": "python",
   "nbconvert_exporter": "python",
   "pygments_lexer": "ipython3",
   "version": "3.12.4"
  }
 },
 "nbformat": 4,
 "nbformat_minor": 5
}
