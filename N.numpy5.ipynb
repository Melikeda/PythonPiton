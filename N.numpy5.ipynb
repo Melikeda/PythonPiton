{
 "cells": [
  {
   "cell_type": "markdown",
   "id": "0e25ea0b-18e2-44b9-85d5-b722103cdb68",
   "metadata": {},
   "source": [
    "# SPLİTTİNG"
   ]
  },
  {
   "cell_type": "code",
   "execution_count": 53,
   "id": "a5855b57-8dc4-479c-a7f6-b0ee37c389b8",
   "metadata": {},
   "outputs": [],
   "source": [
    "import numpy as np"
   ]
  },
  {
   "cell_type": "code",
   "execution_count": 54,
   "id": "9934e077-55e8-4466-bbab-e579e629cb32",
   "metadata": {},
   "outputs": [],
   "source": [
    "x = np.array([1,2,3,3,5,5,6,7,8,8])"
   ]
  },
  {
   "cell_type": "code",
   "execution_count": 55,
   "id": "5dc9e5ce-7b7c-423b-8c6a-c4e7d91d75b3",
   "metadata": {},
   "outputs": [
    {
     "data": {
      "text/plain": [
       "[array([1, 2, 3, 3]), array([5, 5, 6]), array([7, 8, 8])]"
      ]
     },
     "execution_count": 55,
     "metadata": {},
     "output_type": "execute_result"
    }
   ],
   "source": [
    "np.split(x,[4,7])"
   ]
  },
  {
   "cell_type": "code",
   "execution_count": 56,
   "id": "68ca3156-b5d9-4b88-b38d-16ee3bd9cab8",
   "metadata": {},
   "outputs": [],
   "source": [
    "a,b,c = np.split(x, [4,7])"
   ]
  },
  {
   "cell_type": "code",
   "execution_count": 57,
   "id": "3a67bd2f-69c1-40ad-9cf6-b5f7b16f23d6",
   "metadata": {},
   "outputs": [
    {
     "data": {
      "text/plain": [
       "array([1, 2, 3, 3])"
      ]
     },
     "execution_count": 57,
     "metadata": {},
     "output_type": "execute_result"
    }
   ],
   "source": [
    "a"
   ]
  },
  {
   "cell_type": "code",
   "execution_count": 58,
   "id": "c501758c-e47d-43d7-af78-49bdeb0aa527",
   "metadata": {},
   "outputs": [
    {
     "data": {
      "text/plain": [
       "array([5, 5, 6])"
      ]
     },
     "execution_count": 58,
     "metadata": {},
     "output_type": "execute_result"
    }
   ],
   "source": [
    "b"
   ]
  },
  {
   "cell_type": "code",
   "execution_count": 59,
   "id": "fbff5c66-c861-490f-990b-fa81bec09eb0",
   "metadata": {},
   "outputs": [
    {
     "data": {
      "text/plain": [
       "array([7, 8, 8])"
      ]
     },
     "execution_count": 59,
     "metadata": {},
     "output_type": "execute_result"
    }
   ],
   "source": [
    "c"
   ]
  }
 ],
 "metadata": {
  "kernelspec": {
   "display_name": "Python 3 (ipykernel)",
   "language": "python",
   "name": "python3"
  },
  "language_info": {
   "codemirror_mode": {
    "name": "ipython",
    "version": 3
   },
   "file_extension": ".py",
   "mimetype": "text/x-python",
   "name": "python",
   "nbconvert_exporter": "python",
   "pygments_lexer": "ipython3",
   "version": "3.12.4"
  }
 },
 "nbformat": 4,
 "nbformat_minor": 5
}
