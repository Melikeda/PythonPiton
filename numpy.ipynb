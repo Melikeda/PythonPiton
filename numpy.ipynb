{
 "cells": [
  {
   "cell_type": "markdown",
   "id": "cce5b842-ff9a-4085-96d4-d909dacee121",
   "metadata": {},
   "source": [
    "# NUMPY ARRAY"
   ]
  },
  {
   "cell_type": "code",
   "execution_count": 5,
   "id": "b1b21ccf-4dab-4108-9631-90f6e5843cd1",
   "metadata": {},
   "outputs": [
    {
     "data": {
      "text/plain": [
       "array([1, 2, 3, 4, 5])"
      ]
     },
     "execution_count": 5,
     "metadata": {},
     "output_type": "execute_result"
    }
   ],
   "source": [
    "import numpy as np\n",
    "\n",
    "np.array([1,2,3,4,5])"
   ]
  },
  {
   "cell_type": "code",
   "execution_count": 7,
   "id": "f40ec22c-d1e7-4757-98f1-7ee059d59bf7",
   "metadata": {},
   "outputs": [
    {
     "data": {
      "text/plain": [
       "numpy.ndarray"
      ]
     },
     "execution_count": 7,
     "metadata": {},
     "output_type": "execute_result"
    }
   ],
   "source": [
    "a = np.array([1,2,3,4,5])\n",
    "\n",
    "type(a)"
   ]
  },
  {
   "cell_type": "code",
   "execution_count": 8,
   "id": "37158afe-425e-4341-8b80-b89eafec0f47",
   "metadata": {},
   "outputs": [
    {
     "data": {
      "text/plain": [
       "array([ 3.14,  5.  ,  6.  , 14.  ])"
      ]
     },
     "execution_count": 8,
     "metadata": {},
     "output_type": "execute_result"
    }
   ],
   "source": [
    "np.array([3.14,5,6,14])"
   ]
  },
  {
   "cell_type": "markdown",
   "id": "0ebe4314-26db-4511-83c1-357be3525158",
   "metadata": {},
   "source": [
    "Numpy kütüphanesi tek bir türde veri tutar o yüzden array içindekilerin hepsini float çevirdi"
   ]
  },
  {
   "cell_type": "code",
   "execution_count": 9,
   "id": "bfa94054-120e-4d93-9375-c26f53b83890",
   "metadata": {},
   "outputs": [
    {
     "data": {
      "text/plain": [
       "array([ 3,  5,  6, 14])"
      ]
     },
     "execution_count": 9,
     "metadata": {},
     "output_type": "execute_result"
    }
   ],
   "source": [
    "np.array([3.14,5,6,14], dtype=\"int\")"
   ]
  },
  {
   "cell_type": "markdown",
   "id": "115b93bc-9e9a-4ed4-ac9f-d88c18d48051",
   "metadata": {},
   "source": [
    "\"int\" yazdım hepsini int formatında yazdı"
   ]
  },
  {
   "cell_type": "markdown",
   "id": "ea5e0e26-660f-4850-ad98-73be8c8728a0",
   "metadata": {},
   "source": [
    "## Sıfırdan Array Oluşturma"
   ]
  },
  {
   "cell_type": "code",
   "execution_count": 11,
   "id": "dc342f13-ae95-45e0-b002-4f5aa9510e0b",
   "metadata": {},
   "outputs": [
    {
     "data": {
      "text/plain": [
       "array([0, 0, 0, 0, 0, 0, 0, 0, 0, 0])"
      ]
     },
     "execution_count": 11,
     "metadata": {},
     "output_type": "execute_result"
    }
   ],
   "source": [
    "np.zeros(10, dtype=\"int\")"
   ]
  },
  {
   "cell_type": "code",
   "execution_count": 12,
   "id": "44643e0b-baa4-4ffe-b193-6886bd35cfb7",
   "metadata": {},
   "outputs": [
    {
     "data": {
      "text/plain": [
       "array([[1., 1., 1., 1., 1.],\n",
       "       [1., 1., 1., 1., 1.],\n",
       "       [1., 1., 1., 1., 1.]])"
      ]
     },
     "execution_count": 12,
     "metadata": {},
     "output_type": "execute_result"
    }
   ],
   "source": [
    "np.ones((3,5))"
   ]
  },
  {
   "cell_type": "code",
   "execution_count": 13,
   "id": "e77e8e84-d955-4074-9f7f-3866c4df8d7c",
   "metadata": {},
   "outputs": [
    {
     "data": {
      "text/plain": [
       "array([[3, 3, 3, 3],\n",
       "       [3, 3, 3, 3]])"
      ]
     },
     "execution_count": 13,
     "metadata": {},
     "output_type": "execute_result"
    }
   ],
   "source": [
    "np.full((2,4),3)"
   ]
  },
  {
   "cell_type": "code",
   "execution_count": 14,
   "id": "d541156a-1f14-4734-af1b-ad59d532b993",
   "metadata": {},
   "outputs": [
    {
     "data": {
      "text/plain": [
       "array([ 3,  7, 11, 15, 19, 23, 27])"
      ]
     },
     "execution_count": 14,
     "metadata": {},
     "output_type": "execute_result"
    }
   ],
   "source": [
    "np.arange(3,31 ,4)"
   ]
  },
  {
   "cell_type": "markdown",
   "id": "74461bdc-455d-47db-ba8e-e99e1636092a",
   "metadata": {},
   "source": [
    "3 ile 31 arasında 4'er artan doğrusal array"
   ]
  },
  {
   "cell_type": "code",
   "execution_count": 15,
   "id": "de4932dc-88d6-411a-9104-d900bf1a53fa",
   "metadata": {},
   "outputs": [
    {
     "data": {
      "text/plain": [
       "array([0.        , 0.11111111, 0.22222222, 0.33333333, 0.44444444,\n",
       "       0.55555556, 0.66666667, 0.77777778, 0.88888889, 1.        ])"
      ]
     },
     "execution_count": 15,
     "metadata": {},
     "output_type": "execute_result"
    }
   ],
   "source": [
    "np.linspace(0,1, 10)"
   ]
  },
  {
   "cell_type": "markdown",
   "id": "4e03e5c1-841f-4c2e-832a-ef5c6d082521",
   "metadata": {},
   "source": [
    "0 ile 1 arasında 10 farklı sayı oluşruran array"
   ]
  },
  {
   "cell_type": "code",
   "execution_count": 16,
   "id": "04ac27e8-0dd6-4c7c-a848-c32557a23124",
   "metadata": {},
   "outputs": [
    {
     "data": {
      "text/plain": [
       "array([[11.11810173,  8.87203261,  6.91237744,  2.32149615],\n",
       "       [14.35986452, 10.63583488,  6.85581757,  9.8667925 ],\n",
       "       [12.42766615,  9.52668284,  6.26828254, 16.53055289]])"
      ]
     },
     "execution_count": 16,
     "metadata": {},
     "output_type": "execute_result"
    }
   ],
   "source": [
    "np.random.normal(10,4,(3,4))"
   ]
  },
  {
   "cell_type": "markdown",
   "id": "f413ed6e-f49a-4703-a36e-255962f791d3",
   "metadata": {},
   "source": [
    "Ortalama 10 satandart sapma 4 veren array"
   ]
  },
  {
   "cell_type": "code",
   "execution_count": 18,
   "id": "1de76994-cfdc-4a8e-96e9-db8de19b00d5",
   "metadata": {},
   "outputs": [
    {
     "data": {
      "text/plain": [
       "array([[1, 9, 0],\n",
       "       [1, 9, 3],\n",
       "       [6, 6, 6]], dtype=int32)"
      ]
     },
     "execution_count": 18,
     "metadata": {},
     "output_type": "execute_result"
    }
   ],
   "source": [
    "np.random.randint(0,10, (3,3))"
   ]
  }
 ],
 "metadata": {
  "kernelspec": {
   "display_name": "Python 3 (ipykernel)",
   "language": "python",
   "name": "python3"
  },
  "language_info": {
   "codemirror_mode": {
    "name": "ipython",
    "version": 3
   },
   "file_extension": ".py",
   "mimetype": "text/x-python",
   "name": "python",
   "nbconvert_exporter": "python",
   "pygments_lexer": "ipython3",
   "version": "3.12.4"
  }
 },
 "nbformat": 4,
 "nbformat_minor": 5
}
