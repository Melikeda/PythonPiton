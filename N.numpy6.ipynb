{
 "cells": [
  {
   "cell_type": "markdown",
   "id": "917250d3-d328-40cf-a973-cd6851917ed0",
   "metadata": {},
   "source": [
    "# SORTİNG "
   ]
  },
  {
   "cell_type": "code",
   "execution_count": 60,
   "id": "91f79e58-3e5d-4a38-b407-35d90be0022e",
   "metadata": {},
   "outputs": [],
   "source": [
    "import numpy as np"
   ]
  },
  {
   "cell_type": "code",
   "execution_count": 61,
   "id": "e8dc85c6-2b93-4e72-bb55-682e85ba89ab",
   "metadata": {},
   "outputs": [],
   "source": [
    "x = np.array([4,5,2,1,3,6])"
   ]
  },
  {
   "cell_type": "code",
   "execution_count": 62,
   "id": "25598559-dca0-455b-8935-b6d71327905d",
   "metadata": {},
   "outputs": [
    {
     "data": {
      "text/plain": [
       "array([1, 2, 3, 4, 5, 6])"
      ]
     },
     "execution_count": 62,
     "metadata": {},
     "output_type": "execute_result"
    }
   ],
   "source": [
    "np.sort(x)"
   ]
  }
 ],
 "metadata": {
  "kernelspec": {
   "display_name": "Python 3 (ipykernel)",
   "language": "python",
   "name": "python3"
  },
  "language_info": {
   "codemirror_mode": {
    "name": "ipython",
    "version": 3
   },
   "file_extension": ".py",
   "mimetype": "text/x-python",
   "name": "python",
   "nbconvert_exporter": "python",
   "pygments_lexer": "ipython3",
   "version": "3.12.4"
  }
 },
 "nbformat": 4,
 "nbformat_minor": 5
}
