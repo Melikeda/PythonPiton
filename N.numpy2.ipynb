{
 "cells": [
  {
   "cell_type": "markdown",
   "id": "bb0732ad-e97f-4f6c-a40b-a69c259ed9f8",
   "metadata": {},
   "source": [
    "# ARRAY ÖZELLİKLERİ"
   ]
  },
  {
   "cell_type": "code",
   "execution_count": 19,
   "id": "c5805d98-6f9b-49c0-8909-a74e9eff17de",
   "metadata": {},
   "outputs": [
    {
     "data": {
      "text/plain": [
       "array([2, 1, 2, 9, 5, 1, 5, 2, 9, 3], dtype=int32)"
      ]
     },
     "execution_count": 19,
     "metadata": {},
     "output_type": "execute_result"
    }
   ],
   "source": [
    "import numpy as np\n",
    "\n",
    "np.random.randint(10, size=10)"
   ]
  },
  {
   "cell_type": "markdown",
   "id": "568e2043-256a-4642-b3df-1812121e9482",
   "metadata": {},
   "source": [
    "0 ile 10 arasında 10 tane random sayı"
   ]
  },
  {
   "cell_type": "code",
   "execution_count": 21,
   "id": "5917ae55-1247-4f31-a66b-03d2f38b2190",
   "metadata": {},
   "outputs": [],
   "source": [
    "a = np.random.randint(10, size=10)"
   ]
  },
  {
   "cell_type": "code",
   "execution_count": 20,
   "id": "8ce92ef2-502c-4013-b56c-8aa14847394e",
   "metadata": {},
   "outputs": [
    {
     "data": {
      "text/plain": [
       "1"
      ]
     },
     "execution_count": 20,
     "metadata": {},
     "output_type": "execute_result"
    }
   ],
   "source": [
    "a.ndim"
   ]
  },
  {
   "cell_type": "markdown",
   "id": "787f7928-6a72-4999-9fb6-fdd4bbd922ef",
   "metadata": {},
   "source": [
    "ndim = boyut sayısı"
   ]
  },
  {
   "cell_type": "code",
   "execution_count": 22,
   "id": "398051af-31a5-49f0-826e-916fda95f2b6",
   "metadata": {},
   "outputs": [
    {
     "data": {
      "text/plain": [
       "(10,)"
      ]
     },
     "execution_count": 22,
     "metadata": {},
     "output_type": "execute_result"
    }
   ],
   "source": [
    "a.shape"
   ]
  },
  {
   "cell_type": "markdown",
   "id": "7cdb885e-2908-425f-984e-910cb933e534",
   "metadata": {},
   "source": [
    "shape = boyut bilgisi"
   ]
  },
  {
   "cell_type": "code",
   "execution_count": 23,
   "id": "9c43db81-4ee6-43fe-b3a0-a37babb3cd93",
   "metadata": {},
   "outputs": [
    {
     "data": {
      "text/plain": [
       "10"
      ]
     },
     "execution_count": 23,
     "metadata": {},
     "output_type": "execute_result"
    }
   ],
   "source": [
    "a.size"
   ]
  },
  {
   "cell_type": "markdown",
   "id": "38b47198-7c33-4a93-b9a8-536e70573b87",
   "metadata": {},
   "source": [
    "size = toplam eleman sayısı"
   ]
  },
  {
   "cell_type": "code",
   "execution_count": 24,
   "id": "7136571d-bd2d-4e38-86b3-27984853b0fa",
   "metadata": {},
   "outputs": [
    {
     "data": {
      "text/plain": [
       "dtype('int32')"
      ]
     },
     "execution_count": 24,
     "metadata": {},
     "output_type": "execute_result"
    }
   ],
   "source": [
    "a.dtype"
   ]
  },
  {
   "cell_type": "markdown",
   "id": "0e10c4bb-fb39-4f14-880b-1f5e86498d0a",
   "metadata": {},
   "source": [
    "dtype = array veri türü"
   ]
  },
  {
   "cell_type": "markdown",
   "id": "7e5f3a19-d4bf-48d7-a166-a80f7430774a",
   "metadata": {},
   "source": [
    "--------------"
   ]
  },
  {
   "cell_type": "code",
   "execution_count": 36,
   "id": "859491a4-a1df-4371-ae8a-0743971f9b6c",
   "metadata": {},
   "outputs": [],
   "source": [
    "b = np.random.randint(10, size = (3,3))"
   ]
  },
  {
   "cell_type": "code",
   "execution_count": 30,
   "id": "05c00fff-2454-4e44-bf0d-da588c2f0112",
   "metadata": {},
   "outputs": [
    {
     "data": {
      "text/plain": [
       "2"
      ]
     },
     "execution_count": 30,
     "metadata": {},
     "output_type": "execute_result"
    }
   ],
   "source": [
    "b.ndim"
   ]
  },
  {
   "cell_type": "code",
   "execution_count": 29,
   "id": "40eaeaa1-9c44-4860-8999-2871c2ac9747",
   "metadata": {},
   "outputs": [
    {
     "data": {
      "text/plain": [
       "(3, 3)"
      ]
     },
     "execution_count": 29,
     "metadata": {},
     "output_type": "execute_result"
    }
   ],
   "source": [
    "b.shape"
   ]
  },
  {
   "cell_type": "code",
   "execution_count": 28,
   "id": "cec59b1c-0392-4cc6-808a-8555e70b78bc",
   "metadata": {},
   "outputs": [
    {
     "data": {
      "text/plain": [
       "9"
      ]
     },
     "execution_count": 28,
     "metadata": {},
     "output_type": "execute_result"
    }
   ],
   "source": [
    "b.size"
   ]
  },
  {
   "cell_type": "code",
   "execution_count": 27,
   "id": "a470ea51-2ba0-40e4-9957-841aeebcfcd7",
   "metadata": {},
   "outputs": [
    {
     "data": {
      "text/plain": [
       "dtype('int32')"
      ]
     },
     "execution_count": 27,
     "metadata": {},
     "output_type": "execute_result"
    }
   ],
   "source": [
    "b.dtype"
   ]
  }
 ],
 "metadata": {
  "kernelspec": {
   "display_name": "Python 3 (ipykernel)",
   "language": "python",
   "name": "python3"
  },
  "language_info": {
   "codemirror_mode": {
    "name": "ipython",
    "version": 3
   },
   "file_extension": ".py",
   "mimetype": "text/x-python",
   "name": "python",
   "nbconvert_exporter": "python",
   "pygments_lexer": "ipython3",
   "version": "3.12.4"
  }
 },
 "nbformat": 4,
 "nbformat_minor": 5
}
