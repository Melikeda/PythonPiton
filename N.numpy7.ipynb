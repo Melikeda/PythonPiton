{
 "cells": [
  {
   "cell_type": "markdown",
   "id": "b20644b3-8843-47df-98ae-8a578c7fd42d",
   "metadata": {},
   "source": [
    "# INDEX İLE ELEMANLARA ERİŞMEK"
   ]
  },
  {
   "cell_type": "code",
   "execution_count": 63,
   "id": "15c43494-9ae9-480b-a40c-b413392c4c8c",
   "metadata": {},
   "outputs": [],
   "source": [
    "import numpy as np"
   ]
  },
  {
   "cell_type": "code",
   "execution_count": 69,
   "id": "9533c82f-c3ab-480c-8583-9b6d952efc57",
   "metadata": {},
   "outputs": [
    {
     "data": {
      "text/plain": [
       "array([7, 8, 1, 5, 0, 9, 3, 9, 7, 4], dtype=int32)"
      ]
     },
     "execution_count": 69,
     "metadata": {},
     "output_type": "execute_result"
    }
   ],
   "source": [
    "x = np.random.randint(10, size = 10)\n",
    "x"
   ]
  },
  {
   "cell_type": "code",
   "execution_count": 70,
   "id": "0f461cea-4779-4351-9ab4-9240a0513e85",
   "metadata": {},
   "outputs": [
    {
     "data": {
      "text/plain": [
       "np.int32(7)"
      ]
     },
     "execution_count": 70,
     "metadata": {},
     "output_type": "execute_result"
    }
   ],
   "source": [
    "x[0]"
   ]
  },
  {
   "cell_type": "code",
   "execution_count": 72,
   "id": "a4510c0e-06db-4cce-b3be-d3338365c18d",
   "metadata": {},
   "outputs": [
    {
     "data": {
      "text/plain": [
       "array([100,   8,   1,   5,   0,   9,   3,   9,   7,   4], dtype=int32)"
      ]
     },
     "execution_count": 72,
     "metadata": {},
     "output_type": "execute_result"
    }
   ],
   "source": [
    "x[0] = 100\n",
    "x"
   ]
  },
  {
   "cell_type": "markdown",
   "id": "ec06c1bd-7f4b-4d63-a550-e83319570a5a",
   "metadata": {},
   "source": [
    "* İki boyutlu"
   ]
  },
  {
   "cell_type": "code",
   "execution_count": 75,
   "id": "277396d1-3a3a-404a-a8ae-c75924cb49e8",
   "metadata": {},
   "outputs": [
    {
     "data": {
      "text/plain": [
       "array([[1, 6, 8, 9, 2],\n",
       "       [9, 6, 4, 5, 5],\n",
       "       [6, 2, 4, 9, 3]], dtype=int32)"
      ]
     },
     "execution_count": 75,
     "metadata": {},
     "output_type": "execute_result"
    }
   ],
   "source": [
    "y = np.random.randint(10,size = [3,5])\n",
    "y"
   ]
  },
  {
   "cell_type": "code",
   "execution_count": 76,
   "id": "93465afa-b98a-41a3-9e7c-aa02314264a9",
   "metadata": {},
   "outputs": [
    {
     "data": {
      "text/plain": [
       "np.int32(1)"
      ]
     },
     "execution_count": 76,
     "metadata": {},
     "output_type": "execute_result"
    }
   ],
   "source": [
    "y[0,0]"
   ]
  },
  {
   "cell_type": "code",
   "execution_count": 80,
   "id": "2002c959-a0fe-4ece-bc8d-ae2d5c628ac0",
   "metadata": {},
   "outputs": [
    {
     "data": {
      "text/plain": [
       "array([[1, 6, 8, 9, 2],\n",
       "       [9, 6, 4, 5, 5],\n",
       "       [6, 2, 4, 9, 2]], dtype=int32)"
      ]
     },
     "execution_count": 80,
     "metadata": {},
     "output_type": "execute_result"
    }
   ],
   "source": [
    "y[2,4] = 2.2\n",
    "y"
   ]
  }
 ],
 "metadata": {
  "kernelspec": {
   "display_name": "Python 3 (ipykernel)",
   "language": "python",
   "name": "python3"
  },
  "language_info": {
   "codemirror_mode": {
    "name": "ipython",
    "version": 3
   },
   "file_extension": ".py",
   "mimetype": "text/x-python",
   "name": "python",
   "nbconvert_exporter": "python",
   "pygments_lexer": "ipython3",
   "version": "3.12.4"
  }
 },
 "nbformat": 4,
 "nbformat_minor": 5
}
