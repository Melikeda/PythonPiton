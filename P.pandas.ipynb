{
 "cells": [
  {
   "cell_type": "markdown",
   "id": "05a786fe-fcf8-48ed-9298-813ff1028245",
   "metadata": {},
   "source": [
    "# PANDAS SERİLERİ OLUŞTURMA"
   ]
  },
  {
   "cell_type": "code",
   "execution_count": 2,
   "id": "58325a03-62ac-4123-a714-33aaee4b7d95",
   "metadata": {},
   "outputs": [],
   "source": [
    "import pandas as pd"
   ]
  },
  {
   "cell_type": "code",
   "execution_count": 4,
   "id": "146b31d9-ffca-4f31-be70-b3f76d13a7ec",
   "metadata": {},
   "outputs": [
    {
     "data": {
      "text/plain": [
       "0    4\n",
       "1    5\n",
       "2    6\n",
       "3    7\n",
       "4    8\n",
       "dtype: int64"
      ]
     },
     "execution_count": 4,
     "metadata": {},
     "output_type": "execute_result"
    }
   ],
   "source": [
    "pd.Series([4,5,6,7,8])"
   ]
  },
  {
   "cell_type": "code",
   "execution_count": 5,
   "id": "f2c28e30-24ea-4222-867a-81b21530da6b",
   "metadata": {},
   "outputs": [
    {
     "data": {
      "text/plain": [
       "pandas.core.series.Series"
      ]
     },
     "execution_count": 5,
     "metadata": {},
     "output_type": "execute_result"
    }
   ],
   "source": [
    "m = pd.Series([4,5,6,7,8])\n",
    "type(m)"
   ]
  },
  {
   "cell_type": "code",
   "execution_count": 6,
   "id": "3d47aac7-c90c-40be-a9fb-b18b79eef696",
   "metadata": {},
   "outputs": [
    {
     "data": {
      "text/plain": [
       "[RangeIndex(start=0, stop=5, step=1)]"
      ]
     },
     "execution_count": 6,
     "metadata": {},
     "output_type": "execute_result"
    }
   ],
   "source": [
    "m.axes"
   ]
  },
  {
   "cell_type": "code",
   "execution_count": 7,
   "id": "d1ef375e-adcc-4539-89f0-05f1b709d79c",
   "metadata": {},
   "outputs": [
    {
     "data": {
      "text/plain": [
       "dtype('int64')"
      ]
     },
     "execution_count": 7,
     "metadata": {},
     "output_type": "execute_result"
    }
   ],
   "source": [
    "m.dtype"
   ]
  },
  {
   "cell_type": "code",
   "execution_count": 8,
   "id": "51799296-1c5e-46d0-b357-0a4b8caf75c9",
   "metadata": {},
   "outputs": [
    {
     "data": {
      "text/plain": [
       "5"
      ]
     },
     "execution_count": 8,
     "metadata": {},
     "output_type": "execute_result"
    }
   ],
   "source": [
    "m.size"
   ]
  },
  {
   "cell_type": "code",
   "execution_count": 10,
   "id": "41f401b1-4420-4226-b093-8102ed1f3aa6",
   "metadata": {},
   "outputs": [
    {
     "data": {
      "text/plain": [
       "1"
      ]
     },
     "execution_count": 10,
     "metadata": {},
     "output_type": "execute_result"
    }
   ],
   "source": [
    "m.ndim"
   ]
  },
  {
   "cell_type": "code",
   "execution_count": 11,
   "id": "86a64b3e-db9f-4968-8dc2-6c3179d00722",
   "metadata": {},
   "outputs": [
    {
     "data": {
      "text/plain": [
       "array([4, 5, 6, 7, 8])"
      ]
     },
     "execution_count": 11,
     "metadata": {},
     "output_type": "execute_result"
    }
   ],
   "source": [
    "m.values"
   ]
  },
  {
   "cell_type": "code",
   "execution_count": 12,
   "id": "ea73fce7-e548-4325-bc69-33585deb6df5",
   "metadata": {},
   "outputs": [
    {
     "data": {
      "text/plain": [
       "0    4\n",
       "1    5\n",
       "2    6\n",
       "dtype: int64"
      ]
     },
     "execution_count": 12,
     "metadata": {},
     "output_type": "execute_result"
    }
   ],
   "source": [
    "m.head(3)"
   ]
  },
  {
   "cell_type": "code",
   "execution_count": 13,
   "id": "c25c6e3f-f596-4db1-8f3a-52670378d0be",
   "metadata": {},
   "outputs": [
    {
     "data": {
      "text/plain": [
       "<bound method NDFrame.tail of 0    4\n",
       "1    5\n",
       "2    6\n",
       "3    7\n",
       "4    8\n",
       "dtype: int64>"
      ]
     },
     "execution_count": 13,
     "metadata": {},
     "output_type": "execute_result"
    }
   ],
   "source": [
    "m.tail"
   ]
  },
  {
   "cell_type": "markdown",
   "id": "94318673-6ca7-4cce-8692-0786ea279f4e",
   "metadata": {},
   "source": [
    "* İndex isimlendirmesi"
   ]
  },
  {
   "cell_type": "code",
   "execution_count": 14,
   "id": "449fba31-f1e5-4218-9e52-5b6bbc58d0a2",
   "metadata": {},
   "outputs": [
    {
     "data": {
      "text/plain": [
       "0    44\n",
       "1    55\n",
       "2    66\n",
       "3    77\n",
       "4    88\n",
       "dtype: int64"
      ]
     },
     "execution_count": 14,
     "metadata": {},
     "output_type": "execute_result"
    }
   ],
   "source": [
    "pd.Series([44,55,66,77,88])"
   ]
  },
  {
   "cell_type": "code",
   "execution_count": 15,
   "id": "ec866092-a8ad-460c-9e50-5d30878eb7c8",
   "metadata": {},
   "outputs": [
    {
     "data": {
      "text/plain": [
       "4    44\n",
       "5    55\n",
       "6    66\n",
       "7    77\n",
       "8    88\n",
       "dtype: int64"
      ]
     },
     "execution_count": 15,
     "metadata": {},
     "output_type": "execute_result"
    }
   ],
   "source": [
    "pd.Series([44,55,66,77,88], index = [4,5,6,7,8])"
   ]
  },
  {
   "cell_type": "code",
   "execution_count": 24,
   "id": "b8216396-997b-4e7c-8bea-dac8e6099550",
   "metadata": {},
   "outputs": [
    {
     "data": {
      "text/plain": [
       "a    44\n",
       "b    55\n",
       "c    66\n",
       "d    77\n",
       "e    88\n",
       "dtype: int64"
      ]
     },
     "execution_count": 24,
     "metadata": {},
     "output_type": "execute_result"
    }
   ],
   "source": [
    "N = pd.Series([44,55,66,77,88], index = [\"a\",\"b\",\"c\",\"d\",\"e\"])\n",
    "N"
   ]
  },
  {
   "cell_type": "code",
   "execution_count": 25,
   "id": "5a84efae-0674-4fb7-a6e2-ccc94863e070",
   "metadata": {},
   "outputs": [
    {
     "data": {
      "text/plain": [
       "np.int64(44)"
      ]
     },
     "execution_count": 25,
     "metadata": {},
     "output_type": "execute_result"
    }
   ],
   "source": [
    "N[\"a\"]"
   ]
  }
 ],
 "metadata": {
  "kernelspec": {
   "display_name": "Python 3 (ipykernel)",
   "language": "python",
   "name": "python3"
  },
  "language_info": {
   "codemirror_mode": {
    "name": "ipython",
    "version": 3
   },
   "file_extension": ".py",
   "mimetype": "text/x-python",
   "name": "python",
   "nbconvert_exporter": "python",
   "pygments_lexer": "ipython3",
   "version": "3.12.4"
  }
 },
 "nbformat": 4,
 "nbformat_minor": 5
}
