{
 "cells": [
  {
   "cell_type": "markdown",
   "id": "c74b8d31-67d4-4bd6-a17b-59b2edeaa2e7",
   "metadata": {},
   "source": [
    "# KOŞULLU ELEMAN İŞLEMLERİ"
   ]
  },
  {
   "cell_type": "code",
   "execution_count": 110,
   "id": "2e4d1f99-7a45-42e5-b635-80293a46e70a",
   "metadata": {},
   "outputs": [
    {
     "data": {
      "text/plain": [
       "array([1, 2, 3, 4, 5])"
      ]
     },
     "execution_count": 110,
     "metadata": {},
     "output_type": "execute_result"
    }
   ],
   "source": [
    "import numpy as np\n",
    "\n",
    "x = np.array([1,2,3,4,5])\n",
    "x"
   ]
  },
  {
   "cell_type": "code",
   "execution_count": 111,
   "id": "ff0df1c9-4c94-4d41-8c27-41f64fe643e6",
   "metadata": {},
   "outputs": [
    {
     "data": {
      "text/plain": [
       "array([False, False, False, False, False])"
      ]
     },
     "execution_count": 111,
     "metadata": {},
     "output_type": "execute_result"
    }
   ],
   "source": [
    "x > 5"
   ]
  },
  {
   "cell_type": "markdown",
   "id": "3ef99b8d-5b8c-469f-9b9f-06d39d8d57ee",
   "metadata": {},
   "source": [
    "** With fancy"
   ]
  },
  {
   "cell_type": "code",
   "execution_count": 113,
   "id": "ccf7fc0a-4dab-4032-abe2-a75f740578e6",
   "metadata": {},
   "outputs": [
    {
     "data": {
      "text/plain": [
       "array([4, 5])"
      ]
     },
     "execution_count": 113,
     "metadata": {},
     "output_type": "execute_result"
    }
   ],
   "source": [
    "x[x > 3]"
   ]
  },
  {
   "cell_type": "code",
   "execution_count": 114,
   "id": "f4596a7e-50d4-42ab-aeea-ee4863b3329a",
   "metadata": {},
   "outputs": [
    {
     "data": {
      "text/plain": [
       "array([3, 4, 5])"
      ]
     },
     "execution_count": 114,
     "metadata": {},
     "output_type": "execute_result"
    }
   ],
   "source": [
    "x[x >= 3]"
   ]
  },
  {
   "cell_type": "code",
   "execution_count": 115,
   "id": "f0644330-e975-4db0-9684-6aaa89e1b5cb",
   "metadata": {},
   "outputs": [
    {
     "data": {
      "text/plain": [
       "array([1, 2, 3])"
      ]
     },
     "execution_count": 115,
     "metadata": {},
     "output_type": "execute_result"
    }
   ],
   "source": [
    "x[x <= 3]"
   ]
  },
  {
   "cell_type": "code",
   "execution_count": 116,
   "id": "0651b04f-b890-4e12-b7d7-bcf1c46ed401",
   "metadata": {},
   "outputs": [
    {
     "data": {
      "text/plain": [
       "array([3])"
      ]
     },
     "execution_count": 116,
     "metadata": {},
     "output_type": "execute_result"
    }
   ],
   "source": [
    "x[x == 3]"
   ]
  },
  {
   "cell_type": "code",
   "execution_count": 117,
   "id": "ae0f4b23-2936-46ba-b3dd-fd1d6a03350a",
   "metadata": {},
   "outputs": [
    {
     "data": {
      "text/plain": [
       "array([1, 2, 4, 5])"
      ]
     },
     "execution_count": 117,
     "metadata": {},
     "output_type": "execute_result"
    }
   ],
   "source": [
    "x[x != 3]"
   ]
  },
  {
   "cell_type": "markdown",
   "id": "9236ddc5-23ca-49ef-b67a-99314e38c2f5",
   "metadata": {},
   "source": [
    "----->"
   ]
  },
  {
   "cell_type": "code",
   "execution_count": 118,
   "id": "c5457797-1f25-41cd-9775-53d6f80f7e22",
   "metadata": {},
   "outputs": [
    {
     "data": {
      "text/plain": [
       "array([1, 2, 3, 4, 5])"
      ]
     },
     "execution_count": 118,
     "metadata": {},
     "output_type": "execute_result"
    }
   ],
   "source": [
    "x"
   ]
  },
  {
   "cell_type": "code",
   "execution_count": 119,
   "id": "ceb984bf-2938-4f49-8963-f239c5b8e408",
   "metadata": {},
   "outputs": [
    {
     "data": {
      "text/plain": [
       "array([ 2,  4,  6,  8, 10])"
      ]
     },
     "execution_count": 119,
     "metadata": {},
     "output_type": "execute_result"
    }
   ],
   "source": [
    "x*2"
   ]
  },
  {
   "cell_type": "code",
   "execution_count": 120,
   "id": "80dc9fa6-12a6-48b4-8bbc-9b1a21a87a3f",
   "metadata": {},
   "outputs": [
    {
     "data": {
      "text/plain": [
       "array([0.2, 0.4, 0.6, 0.8, 1. ])"
      ]
     },
     "execution_count": 120,
     "metadata": {},
     "output_type": "execute_result"
    }
   ],
   "source": [
    "x/5"
   ]
  },
  {
   "cell_type": "code",
   "execution_count": 121,
   "id": "058714b9-bfbf-488f-93a2-4188b4df32df",
   "metadata": {},
   "outputs": [
    {
     "data": {
      "text/plain": [
       "array([ 6.66666667, 13.33333333, 20.        , 26.66666667, 33.33333333])"
      ]
     },
     "execution_count": 121,
     "metadata": {},
     "output_type": "execute_result"
    }
   ],
   "source": [
    "x*20/3"
   ]
  },
  {
   "cell_type": "code",
   "execution_count": 122,
   "id": "cbcbfc2f-8171-4d07-ad9a-2c602b2f0cec",
   "metadata": {},
   "outputs": [
    {
     "data": {
      "text/plain": [
       "array([  1,   8,  27,  64, 125])"
      ]
     },
     "execution_count": 122,
     "metadata": {},
     "output_type": "execute_result"
    }
   ],
   "source": [
    "x**3"
   ]
  }
 ],
 "metadata": {
  "kernelspec": {
   "display_name": "Python 3 (ipykernel)",
   "language": "python",
   "name": "python3"
  },
  "language_info": {
   "codemirror_mode": {
    "name": "ipython",
    "version": 3
   },
   "file_extension": ".py",
   "mimetype": "text/x-python",
   "name": "python",
   "nbconvert_exporter": "python",
   "pygments_lexer": "ipython3",
   "version": "3.12.4"
  }
 },
 "nbformat": 4,
 "nbformat_minor": 5
}
